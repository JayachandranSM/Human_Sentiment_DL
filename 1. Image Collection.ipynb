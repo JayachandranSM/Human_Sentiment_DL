{
 "cells": [
  {
   "cell_type": "markdown",
   "metadata": {},
   "source": [
    "# 1. Import Dependencies"
   ]
  },
  {
   "cell_type": "code",
   "execution_count": 25,
   "metadata": {},
   "outputs": [],
   "source": [
    "#!pip install opencv-python"
   ]
  },
  {
   "cell_type": "code",
   "execution_count": 1,
   "metadata": {},
   "outputs": [],
   "source": [
    "# Import opencv\n",
    "import cv2 \n",
    "\n",
    "# Import uuid\n",
    "import uuid\n",
    "\n",
    "# Import Operating System\n",
    "import os\n",
    "\n",
    "# Import time\n",
    "import time"
   ]
  },
  {
   "cell_type": "markdown",
   "metadata": {},
   "source": [
    "# 2. Define Images to Collect"
   ]
  },
  {
   "cell_type": "code",
   "execution_count": 2,
   "metadata": {},
   "outputs": [],
   "source": [
    "#labels = ['thumbsup', 'thumbsdown', 'thankyou', 'livelong']\n",
    "#labels = ['Happy', 'Sad', 'Drowsy', 'Awake']\n",
    "labels = ['Drowsy', 'Awake']\n",
    "number_imgs = 25"
   ]
  },
  {
   "cell_type": "markdown",
   "metadata": {},
   "source": [
    "# 3. Setup Folders "
   ]
  },
  {
   "cell_type": "code",
   "execution_count": 3,
   "metadata": {},
   "outputs": [],
   "source": [
    "IMAGES_PATH = os.path.join('Tensorflow', 'workspace', 'images', 'collectedimages')"
   ]
  },
  {
   "cell_type": "code",
   "execution_count": 4,
   "metadata": {},
   "outputs": [],
   "source": [
    "if not os.path.exists(IMAGES_PATH):\n",
    "    if os.name == 'posix':\n",
    "        !mkdir -p {IMAGES_PATH}\n",
    "    if os.name == 'nt':\n",
    "         !mkdir {IMAGES_PATH}\n",
    "for label in labels:\n",
    "    path = os.path.join(IMAGES_PATH, label)\n",
    "    if not os.path.exists(path):\n",
    "        !mkdir {path}"
   ]
  },
  {
   "cell_type": "markdown",
   "metadata": {},
   "source": [
    "# 4. Capture Images"
   ]
  },
  {
   "cell_type": "code",
   "execution_count": 5,
   "metadata": {},
   "outputs": [
    {
     "name": "stdout",
     "output_type": "stream",
     "text": [
      "Collecting images for Drowsy\n",
      "Collecting image 0\n",
      "Collecting image 1\n",
      "Collecting image 2\n",
      "Collecting image 3\n",
      "Collecting image 4\n",
      "Collecting image 5\n",
      "Collecting image 6\n",
      "Collecting image 7\n",
      "Collecting image 8\n",
      "Collecting image 9\n",
      "Collecting image 10\n",
      "Collecting image 11\n",
      "Collecting image 12\n",
      "Collecting image 13\n",
      "Collecting image 14\n",
      "Collecting image 15\n",
      "Collecting image 16\n",
      "Collecting image 17\n",
      "Collecting image 18\n",
      "Collecting image 19\n",
      "Collecting image 20\n",
      "Collecting image 21\n",
      "Collecting image 22\n",
      "Collecting image 23\n",
      "Collecting image 24\n",
      "Collecting images for Awake\n",
      "Collecting image 0\n",
      "Collecting image 1\n",
      "Collecting image 2\n",
      "Collecting image 3\n",
      "Collecting image 4\n",
      "Collecting image 5\n",
      "Collecting image 6\n",
      "Collecting image 7\n",
      "Collecting image 8\n",
      "Collecting image 9\n",
      "Collecting image 10\n",
      "Collecting image 11\n",
      "Collecting image 12\n",
      "Collecting image 13\n",
      "Collecting image 14\n",
      "Collecting image 15\n",
      "Collecting image 16\n",
      "Collecting image 17\n",
      "Collecting image 18\n",
      "Collecting image 19\n",
      "Collecting image 20\n",
      "Collecting image 21\n",
      "Collecting image 22\n",
      "Collecting image 23\n",
      "Collecting image 24\n"
     ]
    }
   ],
   "source": [
    "for label in labels:\n",
    "    cap = cv2.VideoCapture(0)\n",
    "    print('Collecting images for {}'.format(label))\n",
    "    time.sleep(2)\n",
    "    for imgnum in range(number_imgs):\n",
    "        print('Collecting image {}'.format(imgnum))\n",
    "        ret, frame = cap.read()\n",
    "        imgname = os.path.join(IMAGES_PATH,label,label+'.'+'{}.jpg'.format(str(uuid.uuid1())))\n",
    "        cv2.imwrite(imgname, frame)\n",
    "        cv2.imshow('frame', frame)\n",
    "        time.sleep(2)\n",
    "\n",
    "        if cv2.waitKey(1) & 0xFF == ord('q'):\n",
    "            break\n",
    "cap.release()\n",
    "cv2.destroyAllWindows()"
   ]
  },
  {
   "cell_type": "markdown",
   "metadata": {},
   "source": [
    "# 5. Image Labelling"
   ]
  },
  {
   "cell_type": "code",
   "execution_count": 10,
   "metadata": {},
   "outputs": [
    {
     "name": "stdout",
     "output_type": "stream",
     "text": [
      "Collecting pyqt5\n",
      "  Using cached PyQt5-5.15.4-cp36.cp37.cp38.cp39-none-win_amd64.whl (6.8 MB)\n",
      "Collecting lxml\n",
      "  Using cached lxml-4.6.3-cp37-cp37m-win_amd64.whl (3.5 MB)\n",
      "Collecting PyQt5-sip<13,>=12.8\n",
      "  Using cached PyQt5_sip-12.8.1-cp37-cp37m-win_amd64.whl (62 kB)\n",
      "Collecting PyQt5-Qt5>=5.15\n",
      "  Using cached PyQt5_Qt5-5.15.2-py3-none-win_amd64.whl (50.1 MB)\n",
      "Installing collected packages: PyQt5-sip, PyQt5-Qt5, pyqt5, lxml\n",
      "Successfully installed PyQt5-Qt5-5.15.2 PyQt5-sip-12.8.1 lxml-4.6.3 pyqt5-5.15.4\n"
     ]
    }
   ],
   "source": [
    "#!pip install --upgrade pyqt5 lxml"
   ]
  },
  {
   "cell_type": "code",
   "execution_count": 6,
   "metadata": {},
   "outputs": [],
   "source": [
    "LABELIMG_PATH = os.path.join('Tensorflow', 'labelimg')"
   ]
  },
  {
   "cell_type": "code",
   "execution_count": 7,
   "metadata": {},
   "outputs": [],
   "source": [
    "if not os.path.exists(LABELIMG_PATH):\n",
    "    !mkdir {LABELIMG_PATH}\n",
    "    !git clone https://github.com/tzutalin/labelImg {LABELIMG_PATH}"
   ]
  },
  {
   "cell_type": "code",
   "execution_count": 8,
   "metadata": {},
   "outputs": [],
   "source": [
    "if os.name == 'posix':\n",
    "    !make qt5py3\n",
    "if os.name =='nt':\n",
    "    !cd {LABELIMG_PATH} && pyrcc5 -o libs/resources.py resources.qrc"
   ]
  },
  {
   "cell_type": "code",
   "execution_count": 9,
   "metadata": {},
   "outputs": [
    {
     "name": "stdout",
     "output_type": "stream",
     "text": [
      "Image:E:\\Tensforflow Object\\TFODCourse\\Tensorflow\\workspace\\images\\collectedimages\\Awake\\Awake.a3bc15b0-d05e-11ee-8bc5-c27272bb2ac5.jpg -> Annotation:E:/Tensforflow Object/TFODCourse/Tensorflow/workspace/images/collectedimages/Awake/Awake.a3bc15b0-d05e-11ee-8bc5-c27272bb2ac5.xml\n",
      "Image:E:\\Tensforflow Object\\TFODCourse\\Tensorflow\\workspace\\images\\collectedimages\\Awake\\Awake.a3bc15b0-d05e-11ee-8bc5-c27272bb2ac5.jpg -> Annotation:E:/Tensforflow Object/TFODCourse/Tensorflow/workspace/images/collectedimages/Awake/Awake.a3bc15b0-d05e-11ee-8bc5-c27272bb2ac5.xml\n",
      "Image:E:\\Tensforflow Object\\TFODCourse\\Tensorflow\\workspace\\images\\collectedimages\\Awake\\Awake.a4f0c410-d05e-11ee-b750-c27272bb2ac5.jpg -> Annotation:E:/Tensforflow Object/TFODCourse/Tensorflow/workspace/images/collectedimages/Awake/Awake.a4f0c410-d05e-11ee-b750-c27272bb2ac5.xml\n",
      "Image:E:\\Tensforflow Object\\TFODCourse\\Tensorflow\\workspace\\images\\collectedimages\\Awake\\Awake.a9c24171-d05e-11ee-81d0-c27272bb2ac5.jpg -> Annotation:E:/Tensforflow Object/TFODCourse/Tensorflow/workspace/images/collectedimages/Awake/Awake.a9c24171-d05e-11ee-81d0-c27272bb2ac5.xml\n",
      "Image:E:\\Tensforflow Object\\TFODCourse\\Tensorflow\\workspace\\images\\collectedimages\\Awake\\Awake.a88e5cbd-d05e-11ee-8bd5-c27272bb2ac5.jpg -> Annotation:E:/Tensforflow Object/TFODCourse/Tensorflow/workspace/images/collectedimages/Awake/Awake.a88e5cbd-d05e-11ee-8bd5-c27272bb2ac5.xml\n",
      "Image:E:\\Tensforflow Object\\TFODCourse\\Tensorflow\\workspace\\images\\collectedimages\\Awake\\Awake.a288d907-d05e-11ee-a3f3-c27272bb2ac5.jpg -> Annotation:E:/Tensforflow Object/TFODCourse/Tensorflow/workspace/images/collectedimages/Awake/Awake.a288d907-d05e-11ee-a3f3-c27272bb2ac5.xml\n",
      "Image:E:\\Tensforflow Object\\TFODCourse\\Tensorflow\\workspace\\images\\collectedimages\\Awake\\Awake.a759f1fd-d05e-11ee-a823-c27272bb2ac5.jpg -> Annotation:E:/Tensforflow Object/TFODCourse/Tensorflow/workspace/images/collectedimages/Awake/Awake.a759f1fd-d05e-11ee-a823-c27272bb2ac5.xml\n",
      "Image:E:\\Tensforflow Object\\TFODCourse\\Tensorflow\\workspace\\images\\collectedimages\\Awake\\Awake.a15455dc-d05e-11ee-a69b-c27272bb2ac5.jpg -> Annotation:E:/Tensforflow Object/TFODCourse/Tensorflow/workspace/images/collectedimages/Awake/Awake.a15455dc-d05e-11ee-a69b-c27272bb2ac5.xml\n",
      "Image:E:\\Tensforflow Object\\TFODCourse\\Tensorflow\\workspace\\images\\collectedimages\\Awake\\Awake.a62440bd-d05e-11ee-bb5d-c27272bb2ac5.jpg -> Annotation:E:/Tensforflow Object/TFODCourse/Tensorflow/workspace/images/collectedimages/Awake/Awake.a62440bd-d05e-11ee-bb5d-c27272bb2ac5.xml\n",
      "Image:E:\\Tensforflow Object\\TFODCourse\\Tensorflow\\workspace\\images\\collectedimages\\Awake\\Awake.aaf81994-d05e-11ee-bce2-c27272bb2ac5.jpg -> Annotation:E:/Tensforflow Object/TFODCourse/Tensorflow/workspace/images/collectedimages/Awake/Awake.aaf81994-d05e-11ee-bce2-c27272bb2ac5.xml\n",
      "Image:E:\\Tensforflow Object\\TFODCourse\\Tensorflow\\workspace\\images\\collectedimages\\Awake\\Awake.ac2ba98a-d05e-11ee-abab-c27272bb2ac5.jpg -> Annotation:E:/Tensforflow Object/TFODCourse/Tensorflow/workspace/images/collectedimages/Awake/Awake.ac2ba98a-d05e-11ee-abab-c27272bb2ac5.xml\n",
      "Image:E:\\Tensforflow Object\\TFODCourse\\Tensorflow\\workspace\\images\\collectedimages\\Awake\\Awake.ad6060b4-d05e-11ee-a4a6-c27272bb2ac5.jpg -> Annotation:E:/Tensforflow Object/TFODCourse/Tensorflow/workspace/images/collectedimages/Awake/Awake.ad6060b4-d05e-11ee-a4a6-c27272bb2ac5.xml\n",
      "Image:E:\\Tensforflow Object\\TFODCourse\\Tensorflow\\workspace\\images\\collectedimages\\Awake\\Awake.ae953755-d05e-11ee-bf67-c27272bb2ac5.jpg -> Annotation:E:/Tensforflow Object/TFODCourse/Tensorflow/workspace/images/collectedimages/Awake/Awake.ae953755-d05e-11ee-bf67-c27272bb2ac5.xml\n",
      "Image:E:\\Tensforflow Object\\TFODCourse\\Tensorflow\\workspace\\images\\collectedimages\\Awake\\Awake.afca181e-d05e-11ee-add2-c27272bb2ac5.jpg -> Annotation:E:/Tensforflow Object/TFODCourse/Tensorflow/workspace/images/collectedimages/Awake/Awake.afca181e-d05e-11ee-add2-c27272bb2ac5.xml\n",
      "Image:E:\\Tensforflow Object\\TFODCourse\\Tensorflow\\workspace\\images\\collectedimages\\Awake\\Awake.b0ff0460-d05e-11ee-b926-c27272bb2ac5.jpg -> Annotation:E:/Tensforflow Object/TFODCourse/Tensorflow/workspace/images/collectedimages/Awake/Awake.b0ff0460-d05e-11ee-b926-c27272bb2ac5.xml\n",
      "Image:E:\\Tensforflow Object\\TFODCourse\\Tensorflow\\workspace\\images\\collectedimages\\Awake\\Awake.b5d2cc12-d05e-11ee-a9c8-c27272bb2ac5.jpg -> Annotation:E:/Tensforflow Object/TFODCourse/Tensorflow/workspace/images/collectedimages/Awake/Awake.b5d2cc12-d05e-11ee-a9c8-c27272bb2ac5.xml\n",
      "Image:E:\\Tensforflow Object\\TFODCourse\\Tensorflow\\workspace\\images\\collectedimages\\Awake\\Awake.b49d8a65-d05e-11ee-a530-c27272bb2ac5.jpg -> Annotation:E:/Tensforflow Object/TFODCourse/Tensorflow/workspace/images/collectedimages/Awake/Awake.b49d8a65-d05e-11ee-a530-c27272bb2ac5.xml\n",
      "Image:E:\\Tensforflow Object\\TFODCourse\\Tensorflow\\workspace\\images\\collectedimages\\Awake\\Awake.b83b02e1-d05e-11ee-ae4c-c27272bb2ac5.jpg -> Annotation:E:/Tensforflow Object/TFODCourse/Tensorflow/workspace/images/collectedimages/Awake/Awake.b83b02e1-d05e-11ee-ae4c-c27272bb2ac5.xml\n",
      "Image:E:\\Tensforflow Object\\TFODCourse\\Tensorflow\\workspace\\images\\collectedimages\\Awake\\Awake.b96f8050-d05e-11ee-af70-c27272bb2ac5.jpg -> Annotation:E:/Tensforflow Object/TFODCourse/Tensorflow/workspace/images/collectedimages/Awake/Awake.b96f8050-d05e-11ee-af70-c27272bb2ac5.xml\n",
      "Image:E:\\Tensforflow Object\\TFODCourse\\Tensorflow\\workspace\\images\\collectedimages\\Awake\\Awake.b707bcfc-d05e-11ee-afc1-c27272bb2ac5.jpg -> Annotation:E:/Tensforflow Object/TFODCourse/Tensorflow/workspace/images/collectedimages/Awake/Awake.b707bcfc-d05e-11ee-afc1-c27272bb2ac5.xml\n",
      "Image:E:\\Tensforflow Object\\TFODCourse\\Tensorflow\\workspace\\images\\collectedimages\\Awake\\Awake.b2352b33-d05e-11ee-8d99-c27272bb2ac5.jpg -> Annotation:E:/Tensforflow Object/TFODCourse/Tensorflow/workspace/images/collectedimages/Awake/Awake.b2352b33-d05e-11ee-8d99-c27272bb2ac5.xml\n",
      "Image:E:\\Tensforflow Object\\TFODCourse\\Tensorflow\\workspace\\images\\collectedimages\\Awake\\Awake.b3699a5b-d05e-11ee-9ca7-c27272bb2ac5.jpg -> Annotation:E:/Tensforflow Object/TFODCourse/Tensorflow/workspace/images/collectedimages/Awake/Awake.b3699a5b-d05e-11ee-9ca7-c27272bb2ac5.xml\n",
      "Image:E:\\Tensforflow Object\\TFODCourse\\Tensorflow\\workspace\\images\\collectedimages\\Awake\\Awake.baa3fc24-d05e-11ee-9f9d-c27272bb2ac5.jpg -> Annotation:E:/Tensforflow Object/TFODCourse/Tensorflow/workspace/images/collectedimages/Awake/Awake.baa3fc24-d05e-11ee-9f9d-c27272bb2ac5.xml\n",
      "Image:E:\\Tensforflow Object\\TFODCourse\\Tensorflow\\workspace\\images\\collectedimages\\Awake\\Awake.bbd6b6f3-d05e-11ee-a116-c27272bb2ac5.jpg -> Annotation:E:/Tensforflow Object/TFODCourse/Tensorflow/workspace/images/collectedimages/Awake/Awake.bbd6b6f3-d05e-11ee-a116-c27272bb2ac5.xml\n",
      "Image:E:\\Tensforflow Object\\TFODCourse\\Tensorflow\\workspace\\images\\collectedimages\\Awake\\Awake.bd09b553-d05e-11ee-b4e1-c27272bb2ac5.jpg -> Annotation:E:/Tensforflow Object/TFODCourse/Tensorflow/workspace/images/collectedimages/Awake/Awake.bd09b553-d05e-11ee-b4e1-c27272bb2ac5.xml\n",
      "Image:E:\\Tensforflow Object\\TFODCourse\\Tensorflow\\workspace\\images\\collectedimages\\Awake\\Awake.be3cca8f-d05e-11ee-b567-c27272bb2ac5.jpg -> Annotation:E:/Tensforflow Object/TFODCourse/Tensorflow/workspace/images/collectedimages/Awake/Awake.be3cca8f-d05e-11ee-b567-c27272bb2ac5.xml\n",
      "Image:E:\\Tensforflow Object\\TFODCourse\\Tensorflow\\workspace\\images\\collectedimages\\Drowsy\\Drowsy.8a7fd768-d05e-11ee-9cc2-c27272bb2ac5.jpg -> Annotation:E:/Tensforflow Object/TFODCourse/Tensorflow/workspace/images/collectedimages/Drowsy\\Drowsy.8a7fd768-d05e-11ee-9cc2-c27272bb2ac5.xml\n",
      "Image:E:\\Tensforflow Object\\TFODCourse\\Tensorflow\\workspace\\images\\collectedimages\\Drowsy\\Drowsy.8bb2f831-d05e-11ee-8059-c27272bb2ac5.jpg -> Annotation:E:/Tensforflow Object/TFODCourse/Tensorflow/workspace/images/collectedimages/Drowsy\\Drowsy.8bb2f831-d05e-11ee-8059-c27272bb2ac5.xml\n",
      "Image:E:\\Tensforflow Object\\TFODCourse\\Tensorflow\\workspace\\images\\collectedimages\\Drowsy\\Drowsy.8ce7240b-d05e-11ee-98f1-c27272bb2ac5.jpg -> Annotation:E:/Tensforflow Object/TFODCourse/Tensorflow/workspace/images/collectedimages/Drowsy\\Drowsy.8ce7240b-d05e-11ee-98f1-c27272bb2ac5.xml\n",
      "Image:E:\\Tensforflow Object\\TFODCourse\\Tensorflow\\workspace\\images\\collectedimages\\Drowsy\\Drowsy.8e1a5c9a-d05e-11ee-a07c-c27272bb2ac5.jpg -> Annotation:E:/Tensforflow Object/TFODCourse/Tensorflow/workspace/images/collectedimages/Drowsy\\Drowsy.8e1a5c9a-d05e-11ee-a07c-c27272bb2ac5.xml\n",
      "Image:E:\\Tensforflow Object\\TFODCourse\\Tensorflow\\workspace\\images\\collectedimages\\Drowsy\\Drowsy.8f4f7257-d05e-11ee-800e-c27272bb2ac5.jpg -> Annotation:E:/Tensforflow Object/TFODCourse/Tensorflow/workspace/images/collectedimages/Drowsy\\Drowsy.8f4f7257-d05e-11ee-800e-c27272bb2ac5.xml\n",
      "Image:E:\\Tensforflow Object\\TFODCourse\\Tensorflow\\workspace\\images\\collectedimages\\Drowsy\\Drowsy.9a2d3b6c-d05e-11ee-9c22-c27272bb2ac5.jpg -> Annotation:E:/Tensforflow Object/TFODCourse/Tensorflow/workspace/images/collectedimages/Drowsy\\Drowsy.9a2d3b6c-d05e-11ee-9c22-c27272bb2ac5.xml\n",
      "Image:E:\\Tensforflow Object\\TFODCourse\\Tensorflow\\workspace\\images\\collectedimages\\Drowsy\\Drowsy.9b626754-d05e-11ee-a578-c27272bb2ac5.jpg -> Annotation:E:/Tensforflow Object/TFODCourse/Tensorflow/workspace/images/collectedimages/Drowsy\\Drowsy.9b626754-d05e-11ee-a578-c27272bb2ac5.xml\n",
      "Image:E:\\Tensforflow Object\\TFODCourse\\Tensorflow\\workspace\\images\\collectedimages\\Drowsy\\Drowsy.9c98e7eb-d05e-11ee-87f7-c27272bb2ac5.jpg -> Annotation:E:/Tensforflow Object/TFODCourse/Tensorflow/workspace/images/collectedimages/Drowsy\\Drowsy.9c98e7eb-d05e-11ee-87f7-c27272bb2ac5.xml\n",
      "Image:E:\\Tensforflow Object\\TFODCourse\\Tensorflow\\workspace\\images\\collectedimages\\Drowsy\\Drowsy.9dce3c26-d05e-11ee-8a56-c27272bb2ac5.jpg -> Annotation:E:/Tensforflow Object/TFODCourse/Tensorflow/workspace/images/collectedimages/Drowsy\\Drowsy.9dce3c26-d05e-11ee-8a56-c27272bb2ac5.xml\n",
      "Image:E:\\Tensforflow Object\\TFODCourse\\Tensorflow\\workspace\\images\\collectedimages\\Drowsy\\Drowsy.80dc2361-d05e-11ee-be28-c27272bb2ac5.jpg -> Annotation:E:/Tensforflow Object/TFODCourse/Tensorflow/workspace/images/collectedimages/Drowsy\\Drowsy.80dc2361-d05e-11ee-be28-c27272bb2ac5.xml\n",
      "Image:E:\\Tensforflow Object\\TFODCourse\\Tensorflow\\workspace\\images\\collectedimages\\Drowsy\\Drowsy.85b00815-d05e-11ee-8f34-c27272bb2ac5.jpg -> Annotation:E:/Tensforflow Object/TFODCourse/Tensorflow/workspace/images/collectedimages/Drowsy\\Drowsy.85b00815-d05e-11ee-8f34-c27272bb2ac5.xml\n",
      "Image:E:\\Tensforflow Object\\TFODCourse\\Tensorflow\\workspace\\images\\collectedimages\\Drowsy\\Drowsy.86e457b9-d05e-11ee-9476-c27272bb2ac5.jpg -> Annotation:E:/Tensforflow Object/TFODCourse/Tensorflow/workspace/images/collectedimages/Drowsy\\Drowsy.86e457b9-d05e-11ee-9476-c27272bb2ac5.xml\n",
      "Image:E:\\Tensforflow Object\\TFODCourse\\Tensorflow\\workspace\\images\\collectedimages\\Drowsy\\Drowsy.91b93f14-d05e-11ee-b81d-c27272bb2ac5.jpg -> Annotation:E:/Tensforflow Object/TFODCourse/Tensorflow/workspace/images/collectedimages/Drowsy\\Drowsy.91b93f14-d05e-11ee-b81d-c27272bb2ac5.xml\n",
      "Image:E:\\Tensforflow Object\\TFODCourse\\Tensorflow\\workspace\\images\\collectedimages\\Drowsy\\Drowsy.92ef9ae3-d05e-11ee-a3aa-c27272bb2ac5.jpg -> Annotation:E:/Tensforflow Object/TFODCourse/Tensorflow/workspace/images/collectedimages/Drowsy\\Drowsy.92ef9ae3-d05e-11ee-a3aa-c27272bb2ac5.xml\n",
      "Image:E:\\Tensforflow Object\\TFODCourse\\Tensorflow\\workspace\\images\\collectedimages\\Drowsy\\Drowsy.97c43bfd-d05e-11ee-9b74-c27272bb2ac5.jpg -> Annotation:E:/Tensforflow Object/TFODCourse/Tensorflow/workspace/images/collectedimages/Drowsy\\Drowsy.97c43bfd-d05e-11ee-9b74-c27272bb2ac5.xml\n",
      "Image:E:\\Tensforflow Object\\TFODCourse\\Tensorflow\\workspace\\images\\collectedimages\\Drowsy\\Drowsy.98f889bd-d05e-11ee-be0f-c27272bb2ac5.jpg -> Annotation:E:/Tensforflow Object/TFODCourse/Tensorflow/workspace/images/collectedimages/Drowsy\\Drowsy.98f889bd-d05e-11ee-be0f-c27272bb2ac5.xml\n",
      "Image:E:\\Tensforflow Object\\TFODCourse\\Tensorflow\\workspace\\images\\collectedimages\\Drowsy\\Drowsy.847bfca0-d05e-11ee-909c-c27272bb2ac5.jpg -> Annotation:E:/Tensforflow Object/TFODCourse/Tensorflow/workspace/images/collectedimages/Drowsy\\Drowsy.847bfca0-d05e-11ee-909c-c27272bb2ac5.xml\n",
      "Image:E:\\Tensforflow Object\\TFODCourse\\Tensorflow\\workspace\\images\\collectedimages\\Drowsy\\Drowsy.894c98ab-d05e-11ee-8ba9-c27272bb2ac5.jpg -> Annotation:E:/Tensforflow Object/TFODCourse/Tensorflow/workspace/images/collectedimages/Drowsy\\Drowsy.894c98ab-d05e-11ee-8ba9-c27272bb2ac5.xml\n",
      "Image:E:\\Tensforflow Object\\TFODCourse\\Tensorflow\\workspace\\images\\collectedimages\\Drowsy\\Drowsy.955a7c1b-d05e-11ee-894d-c27272bb2ac5.jpg -> Annotation:E:/Tensforflow Object/TFODCourse/Tensorflow/workspace/images/collectedimages/Drowsy\\Drowsy.955a7c1b-d05e-11ee-894d-c27272bb2ac5.xml\n",
      "Image:E:\\Tensforflow Object\\TFODCourse\\Tensorflow\\workspace\\images\\collectedimages\\Drowsy\\Drowsy.968e8da9-d05e-11ee-9667-c27272bb2ac5.jpg -> Annotation:E:/Tensforflow Object/TFODCourse/Tensorflow/workspace/images/collectedimages/Drowsy\\Drowsy.968e8da9-d05e-11ee-9667-c27272bb2ac5.xml\n",
      "Image:E:\\Tensforflow Object\\TFODCourse\\Tensorflow\\workspace\\images\\collectedimages\\Drowsy\\Drowsy.8819ab68-d05e-11ee-8b75-c27272bb2ac5.jpg -> Annotation:E:/Tensforflow Object/TFODCourse/Tensorflow/workspace/images/collectedimages/Drowsy\\Drowsy.8819ab68-d05e-11ee-8b75-c27272bb2ac5.xml\n",
      "Image:E:\\Tensforflow Object\\TFODCourse\\Tensorflow\\workspace\\images\\collectedimages\\Drowsy\\Drowsy.9083b78d-d05e-11ee-a7a2-c27272bb2ac5.jpg -> Annotation:E:/Tensforflow Object/TFODCourse/Tensorflow/workspace/images/collectedimages/Drowsy\\Drowsy.9083b78d-d05e-11ee-a7a2-c27272bb2ac5.xml\n",
      "Image:E:\\Tensforflow Object\\TFODCourse\\Tensorflow\\workspace\\images\\collectedimages\\Drowsy\\Drowsy.94250cc9-d05e-11ee-b8bc-c27272bb2ac5.jpg -> Annotation:E:/Tensforflow Object/TFODCourse/Tensorflow/workspace/images/collectedimages/Drowsy\\Drowsy.94250cc9-d05e-11ee-b8bc-c27272bb2ac5.xml\n",
      "Image:E:\\Tensforflow Object\\TFODCourse\\Tensorflow\\workspace\\images\\collectedimages\\Drowsy\\Drowsy.821246f6-d05e-11ee-90ee-c27272bb2ac5.jpg -> Annotation:E:/Tensforflow Object/TFODCourse/Tensorflow/workspace/images/collectedimages/Drowsy\\Drowsy.821246f6-d05e-11ee-90ee-c27272bb2ac5.xml\n",
      "Image:E:\\Tensforflow Object\\TFODCourse\\Tensorflow\\workspace\\images\\collectedimages\\Drowsy\\Drowsy.83462248-d05e-11ee-9847-c27272bb2ac5.jpg -> Annotation:E:/Tensforflow Object/TFODCourse/Tensorflow/workspace/images/collectedimages/Drowsy\\Drowsy.83462248-d05e-11ee-9847-c27272bb2ac5.xml\n"
     ]
    }
   ],
   "source": [
    "!cd {LABELIMG_PATH} && python labelImg.py"
   ]
  },
  {
   "cell_type": "markdown",
   "metadata": {},
   "source": [
    "# 6. Move them into a Training and Testing Partition"
   ]
  },
  {
   "cell_type": "markdown",
   "metadata": {},
   "source": [
    "# OPTIONAL - 7. Compress them for Colab Training"
   ]
  },
  {
   "cell_type": "code",
   "execution_count": 20,
   "metadata": {},
   "outputs": [],
   "source": [
    "TRAIN_PATH = os.path.join('Tensorflow', 'workspace', 'images', 'train')\n",
    "TEST_PATH = os.path.join('Tensorflow', 'workspace', 'images', 'test')\n",
    "ARCHIVE_PATH = os.path.join('Tensorflow', 'workspace', 'images', 'archive.tar.gz')"
   ]
  },
  {
   "cell_type": "code",
   "execution_count": 21,
   "metadata": {},
   "outputs": [],
   "source": [
    "!tar -czf {ARCHIVE_PATH} {TRAIN_PATH} {TEST_PATH}"
   ]
  },
  {
   "cell_type": "code",
   "execution_count": null,
   "metadata": {},
   "outputs": [],
   "source": []
  }
 ],
 "metadata": {
  "kernelspec": {
   "display_name": "tfod",
   "language": "python",
   "name": "tfod"
  },
  "language_info": {
   "codemirror_mode": {
    "name": "ipython",
    "version": 3
   },
   "file_extension": ".py",
   "mimetype": "text/x-python",
   "name": "python",
   "nbconvert_exporter": "python",
   "pygments_lexer": "ipython3",
   "version": "3.11.4"
  }
 },
 "nbformat": 4,
 "nbformat_minor": 4
}
